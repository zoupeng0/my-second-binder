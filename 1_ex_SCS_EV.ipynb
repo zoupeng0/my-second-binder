{
 "cells": [
  {
   "cell_type": "code",
   "execution_count": 1,
   "metadata": {},
   "outputs": [
    {
     "name": "stderr",
     "output_type": "stream",
     "text": [
      "\u001b[32m\u001b[1m Activating\u001b[22m\u001b[39m environment at `C:\\Users\\zoupeng\\3_Julia\\Project.toml`\n"
     ]
    }
   ],
   "source": [
    "using Pkg\n",
    "pkg\"activate .\"\n",
    "pkg\"instantiate\""
   ]
  },
  {
   "cell_type": "code",
   "execution_count": 2,
   "metadata": {},
   "outputs": [],
   "source": [
    "# Let us first make the Convex.jl module available\n",
    "using Convex, SCS"
   ]
  },
  {
   "cell_type": "code",
   "execution_count": 3,
   "metadata": {},
   "outputs": [
    {
     "data": {
      "text/plain": [
       "4×1 Array{Float64,2}:\n",
       " -0.9048041774828842\n",
       "  0.3977220906588505\n",
       "  1.3532563217377065\n",
       "  1.405025214155736"
      ]
     },
     "execution_count": 3,
     "metadata": {},
     "output_type": "execute_result"
    }
   ],
   "source": [
    "# Generate random problem data\n",
    "m = 4;  n = 5\n",
    "A = randn(m, n); b = randn(m, 1)"
   ]
  },
  {
   "cell_type": "code",
   "execution_count": 4,
   "metadata": {},
   "outputs": [
    {
     "data": {
      "text/plain": [
       "Variable\n",
       "size: (5, 1)\n",
       "sign: real\n",
       "vexity: affine\n",
       "id: 669…611"
      ]
     },
     "execution_count": 4,
     "metadata": {},
     "output_type": "execute_result"
    }
   ],
   "source": [
    "# Create a (column vector) variable of size n x 1.\n",
    "x = Variable(n)"
   ]
  },
  {
   "cell_type": "code",
   "execution_count": 5,
   "metadata": {},
   "outputs": [
    {
     "data": {
      "text/plain": [
       "minimize\n",
       "└─ qol_elem (convex; positive)\n",
       "   ├─ norm2 (convex; positive)\n",
       "   │  └─ + (affine; real)\n",
       "   │     ├─ …\n",
       "   │     └─ …\n",
       "   └─ [1.0]\n",
       "subject to\n",
       "└─ >= constraint (affine)\n",
       "   ├─ 5-element real variable (id: 669…611)\n",
       "   └─ 0\n",
       "\n",
       "status: `solve!` not called yet"
      ]
     },
     "execution_count": 5,
     "metadata": {},
     "output_type": "execute_result"
    }
   ],
   "source": [
    "# The problem is to minimize ||Ax - b||^2 subject to x >= 0\n",
    "# This can be done by: minimize(objective, constraints)\n",
    "problem = minimize(sumsquares(A * x - b), [x >= 0])"
   ]
  },
  {
   "cell_type": "code",
   "execution_count": 6,
   "metadata": {},
   "outputs": [
    {
     "name": "stdout",
     "output_type": "stream",
     "text": [
      "----------------------------------------------------------------------------\n",
      "\tSCS v2.1.1 - Splitting Conic Solver\n",
      "\t(c) Brendan O'Donoghue, Stanford University, 2012\n",
      "----------------------------------------------------------------------------\n",
      "Lin-sys: sparse-indirect, nnz in A = 31, CG tol ~ 1/iter^(2.00)\n",
      "eps = 1.00e-005, alpha = 1.50, max_iters = 5000, normalize = 1, scale = 1.00\n",
      "acceleration_lookback = 10, rho_x = 1.00e-003\n",
      "Variables n = 8, constraints m = 15\n",
      "Cones:\tprimal zero / dual free vars: 1\n",
      "\tlinear vars: 6\n",
      "\tsoc vars: 8, soc blks: 2\n",
      "Setup time: 4.22e-005s\n",
      "----------------------------------------------------------------------------\n",
      " Iter | pri res | dua res | rel gap | pri obj | dua obj | kap/tau | time (s)\n",
      "----------------------------------------------------------------------------\n",
      "     0|2.15e+019 1.65e+019 1.00e+000 -6.92e+019 3.40e+019 6.75e+019 1.85e-005 \n",
      "    40|2.08e-008 5.77e-008 2.65e-008 1.75e+000 1.75e+000 3.92e-016 2.11e-004 \n",
      "----------------------------------------------------------------------------\n",
      "Status: Solved\n",
      "Timing: Solve time: 2.14e-004s\n",
      "\tLin-sys: avg # CG iterations: 3.29, avg solve time: 5.76e-007s\n",
      "\tCones: avg projection time: 6.83e-008s\n",
      "\tAcceleration: avg step time: 3.64e-006s\n",
      "----------------------------------------------------------------------------\n",
      "Error metrics:\n",
      "dist(s, K) = 1.4215e-016, dist(y, K*) = 0.0000e+000, s'y/|s||y| = 0.0000e+000\n",
      "primal res: |Ax + s - b|_2 / (1 + |b|_2) = 2.0782e-008\n",
      "dual res:   |A'y + c|_2 / (1 + |c|_2) = 5.7730e-008\n",
      "rel gap:    |c'x + b'y| / (1 + |c'x| + |b'y|) = 2.6543e-008\n",
      "----------------------------------------------------------------------------\n",
      "c'x = 1.7541, -b'y = 1.7541\n",
      "============================================================================\n"
     ]
    }
   ],
   "source": [
    "# Solve the problem by calling solve!\n",
    "solve!(problem, SCS.Optimizer)"
   ]
  },
  {
   "cell_type": "code",
   "execution_count": 7,
   "metadata": {},
   "outputs": [
    {
     "data": {
      "text/plain": [
       "OPTIMAL::TerminationStatusCode = 1"
      ]
     },
     "execution_count": 7,
     "metadata": {},
     "output_type": "execute_result"
    }
   ],
   "source": [
    "# Check the status of the problem\n",
    "problem.status # :Optimal, :Infeasible, :Unbounded etc."
   ]
  },
  {
   "cell_type": "code",
   "execution_count": 8,
   "metadata": {},
   "outputs": [
    {
     "data": {
      "text/plain": [
       "1.7541100052502245"
      ]
     },
     "execution_count": 8,
     "metadata": {},
     "output_type": "execute_result"
    }
   ],
   "source": [
    "# Get the optimal value\n",
    "problem.optval"
   ]
  },
  {
   "cell_type": "code",
   "execution_count": null,
   "metadata": {},
   "outputs": [],
   "source": []
  }
 ],
 "metadata": {
  "kernelspec": {
   "display_name": "Julia 1.4.2",
   "language": "julia",
   "name": "julia-1.4"
  },
  "language_info": {
   "file_extension": ".jl",
   "mimetype": "application/julia",
   "name": "julia",
   "version": "1.4.2"
  }
 },
 "nbformat": 4,
 "nbformat_minor": 4
}
